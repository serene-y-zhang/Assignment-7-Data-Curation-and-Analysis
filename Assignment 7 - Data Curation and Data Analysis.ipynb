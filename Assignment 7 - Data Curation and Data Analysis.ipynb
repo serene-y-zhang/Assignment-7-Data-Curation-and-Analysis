{
 "cells": [
  {
   "cell_type": "code",
   "execution_count": 113,
   "id": "71331b46",
   "metadata": {},
   "outputs": [],
   "source": [
    "import wikipediaapi\n",
    "import requests\n",
    "import pandas\n",
    "from bs4 import BeautifulSoup"
   ]
  },
  {
   "cell_type": "markdown",
   "id": "0f119152",
   "metadata": {},
   "source": [
    "EXTRACT ~ get the data from wikipedia website in the form of html"
   ]
  },
  {
   "cell_type": "code",
   "execution_count": 114,
   "id": "07431402",
   "metadata": {},
   "outputs": [],
   "source": [
    "wikiurl=\"https://en.wikipedia.org/wiki/List_of_tz_database_time_zones\"\n",
    "table_class=\"wikitable sortable jquery-tablesorter\"\n",
    "response=requests.get(wikiurl)"
   ]
  },
  {
   "cell_type": "markdown",
   "id": "f03b536e",
   "metadata": {},
   "source": [
    "TRANSFORM ~ parse data from html into a BeautifulSoup object"
   ]
  },
  {
   "cell_type": "code",
   "execution_count": 115,
   "id": "f3b1a625",
   "metadata": {},
   "outputs": [],
   "source": [
    "soup = BeautifulSoup(response.text, 'html.parser')\n",
    "indiatable=soup.find('table',{'class':\"wikitable\"})"
   ]
  },
  {
   "cell_type": "markdown",
   "id": "184ccf77",
   "metadata": {},
   "source": [
    "convert list to dataframe"
   ]
  },
  {
   "cell_type": "code",
   "execution_count": 128,
   "id": "366476e6",
   "metadata": {},
   "outputs": [],
   "source": [
    "df=pd.read_html(str(indiatable))\n",
    "df=pd.DataFrame(df[0])"
   ]
  },
  {
   "cell_type": "markdown",
   "id": "eba67051",
   "metadata": {},
   "source": [
    "drop the unwanted columns"
   ]
  },
  {
   "cell_type": "code",
   "execution_count": 132,
   "id": "cd74f101",
   "metadata": {},
   "outputs": [
    {
     "name": "stdout",
     "output_type": "stream",
     "text": [
      "                                  Country code(s)    TZ database name  \\\n",
      "                                  Country code(s)    TZ database name   \n",
      "0  CI, BF, GH, GM, GN, IS, ML, MR, SH, SL, SN, TG      Africa/Abidjan   \n",
      "1                                              GH        Africa/Accra   \n",
      "2                                              ET  Africa/Addis_Ababa   \n",
      "3                                              DZ      Africa/Algiers   \n",
      "4                                              ER       Africa/Asmara   \n",
      "\n",
      "  Area(s) covered       Type UTC offset±hh:mm         Time zoneabbreviation  \\\n",
      "  Area(s) covered       Type              STD     DST                   STD   \n",
      "0             NaN  Canonical           +00:00  +00:00                   GMT   \n",
      "1             NaN      Link†           +00:00  +00:00                   GMT   \n",
      "2             NaN      Link†           +03:00  +03:00                   EAT   \n",
      "3             NaN  Canonical           +01:00  +01:00                   CET   \n",
      "4             NaN      Link†           +03:00  +03:00                   EAT   \n",
      "\n",
      "       Sourcefile  \n",
      "   DST Sourcefile  \n",
      "0  GMT     africa  \n",
      "1  GMT   backward  \n",
      "2  EAT   backward  \n",
      "3  CET     africa  \n",
      "4  EAT   backward  \n"
     ]
    },
    {
     "name": "stderr",
     "output_type": "stream",
     "text": [
      "/var/folders/_l/t31rqf057m3fwrzq7xxzmxj40000gp/T/ipykernel_17537/412726932.py:1: PerformanceWarning: dropping on a non-lexsorted multi-index without a level parameter may impact performance.\n",
      "  df.drop([\"Notes\"], axis=1)\n"
     ]
    }
   ],
   "source": [
    "df.drop([\"Notes\"], axis=1)\n",
    "print(data.head())"
   ]
  },
  {
   "cell_type": "markdown",
   "id": "275f7f23",
   "metadata": {},
   "source": [
    "LOAD ~ convert to csv file"
   ]
  },
  {
   "cell_type": "code",
   "execution_count": 123,
   "id": "3ce2f042",
   "metadata": {},
   "outputs": [],
   "source": [
    "#df.to_csv(\"TZ Database Time Zones.csv\")"
   ]
  },
  {
   "cell_type": "code",
   "execution_count": 3,
   "id": "df2839a3",
   "metadata": {},
   "outputs": [],
   "source": [
    "import pandas as pd\n",
    "import numpy as np\n",
    "import scipy\n",
    "from matplotlib import pyplot as plt\n",
    "from IPython.core.interactiveshell import InteractiveShell\n",
    "InteractiveShell.ast_node_interactivity = \"all\""
   ]
  },
  {
   "cell_type": "markdown",
   "id": "f1d73619",
   "metadata": {},
   "source": [
    "import csv"
   ]
  },
  {
   "cell_type": "code",
   "execution_count": 4,
   "id": "af1c8a7d",
   "metadata": {},
   "outputs": [],
   "source": [
    "df = pd.read_csv(\"TZ Database Time Zones.csv\")"
   ]
  },
  {
   "cell_type": "markdown",
   "id": "2a8b153c",
   "metadata": {},
   "source": [
    "remove first row and columns of data frame"
   ]
  },
  {
   "cell_type": "code",
   "execution_count": 5,
   "id": "db135b8e",
   "metadata": {},
   "outputs": [
    {
     "data": {
      "text/html": [
       "<div>\n",
       "<style scoped>\n",
       "    .dataframe tbody tr th:only-of-type {\n",
       "        vertical-align: middle;\n",
       "    }\n",
       "\n",
       "    .dataframe tbody tr th {\n",
       "        vertical-align: top;\n",
       "    }\n",
       "\n",
       "    .dataframe thead th {\n",
       "        text-align: right;\n",
       "    }\n",
       "</style>\n",
       "<table border=\"1\" class=\"dataframe\">\n",
       "  <thead>\n",
       "    <tr style=\"text-align: right;\">\n",
       "      <th></th>\n",
       "      <th>Country code(s)</th>\n",
       "      <th>TZ database name</th>\n",
       "      <th>Type</th>\n",
       "      <th>UTC offset±hh:mm</th>\n",
       "      <th>UTC offset±hh:mm.1</th>\n",
       "      <th>Time zoneabbreviation</th>\n",
       "      <th>Time zoneabbreviation.1</th>\n",
       "      <th>Sourcefile</th>\n",
       "    </tr>\n",
       "  </thead>\n",
       "  <tbody>\n",
       "    <tr>\n",
       "      <th>1</th>\n",
       "      <td>CI, BF, GH, GM, GN, IS, ML, MR, SH, SL, SN, TG</td>\n",
       "      <td>Africa/Abidjan</td>\n",
       "      <td>Canonical</td>\n",
       "      <td>+00:00</td>\n",
       "      <td>+00:00</td>\n",
       "      <td>GMT</td>\n",
       "      <td>GMT</td>\n",
       "      <td>africa</td>\n",
       "    </tr>\n",
       "    <tr>\n",
       "      <th>2</th>\n",
       "      <td>GH</td>\n",
       "      <td>Africa/Accra</td>\n",
       "      <td>Link†</td>\n",
       "      <td>+00:00</td>\n",
       "      <td>+00:00</td>\n",
       "      <td>GMT</td>\n",
       "      <td>GMT</td>\n",
       "      <td>backward</td>\n",
       "    </tr>\n",
       "    <tr>\n",
       "      <th>3</th>\n",
       "      <td>ET</td>\n",
       "      <td>Africa/Addis_Ababa</td>\n",
       "      <td>Link†</td>\n",
       "      <td>+03:00</td>\n",
       "      <td>+03:00</td>\n",
       "      <td>EAT</td>\n",
       "      <td>EAT</td>\n",
       "      <td>backward</td>\n",
       "    </tr>\n",
       "    <tr>\n",
       "      <th>4</th>\n",
       "      <td>DZ</td>\n",
       "      <td>Africa/Algiers</td>\n",
       "      <td>Canonical</td>\n",
       "      <td>+01:00</td>\n",
       "      <td>+01:00</td>\n",
       "      <td>CET</td>\n",
       "      <td>CET</td>\n",
       "      <td>africa</td>\n",
       "    </tr>\n",
       "    <tr>\n",
       "      <th>5</th>\n",
       "      <td>ER</td>\n",
       "      <td>Africa/Asmara</td>\n",
       "      <td>Link†</td>\n",
       "      <td>+03:00</td>\n",
       "      <td>+03:00</td>\n",
       "      <td>EAT</td>\n",
       "      <td>EAT</td>\n",
       "      <td>backward</td>\n",
       "    </tr>\n",
       "  </tbody>\n",
       "</table>\n",
       "</div>"
      ],
      "text/plain": [
       "                                  Country code(s)    TZ database name  \\\n",
       "1  CI, BF, GH, GM, GN, IS, ML, MR, SH, SL, SN, TG      Africa/Abidjan   \n",
       "2                                              GH        Africa/Accra   \n",
       "3                                              ET  Africa/Addis_Ababa   \n",
       "4                                              DZ      Africa/Algiers   \n",
       "5                                              ER       Africa/Asmara   \n",
       "\n",
       "        Type UTC offset±hh:mm UTC offset±hh:mm.1 Time zoneabbreviation  \\\n",
       "1  Canonical           +00:00             +00:00                   GMT   \n",
       "2      Link†           +00:00             +00:00                   GMT   \n",
       "3      Link†           +03:00             +03:00                   EAT   \n",
       "4  Canonical           +01:00             +01:00                   CET   \n",
       "5      Link†           +03:00             +03:00                   EAT   \n",
       "\n",
       "  Time zoneabbreviation.1 Sourcefile  \n",
       "1                     GMT     africa  \n",
       "2                     GMT   backward  \n",
       "3                     EAT   backward  \n",
       "4                     CET     africa  \n",
       "5                     EAT   backward  "
      ]
     },
     "execution_count": 5,
     "metadata": {},
     "output_type": "execute_result"
    }
   ],
   "source": [
    "df = df.tail(-1)\n",
    "df = df.drop(\"Area(s) covered\", axis='columns')\n",
    "df = df.drop(\"Unnamed: 0\", axis='columns')\n",
    "df.head()"
   ]
  },
  {
   "cell_type": "markdown",
   "id": "24d5c0de",
   "metadata": {},
   "source": [
    "get column's data"
   ]
  },
  {
   "cell_type": "code",
   "execution_count": 6,
   "id": "da8eeb56",
   "metadata": {},
   "outputs": [
    {
     "name": "stdout",
     "output_type": "stream",
     "text": [
      "Index(['Country code(s)', 'TZ database name', 'Type', 'UTC offset±hh:mm',\n",
      "       'UTC offset±hh:mm.1', 'Time zoneabbreviation',\n",
      "       'Time zoneabbreviation.1', 'Sourcefile'],\n",
      "      dtype='object')\n",
      "1      GMT\n",
      "2      GMT\n",
      "3      EAT\n",
      "4      CET\n",
      "5      EAT\n",
      "      ... \n",
      "593    SST\n",
      "594    UTC\n",
      "595    MSK\n",
      "596    WET\n",
      "597    UTC\n",
      "Name: Time zoneabbreviation, Length: 597, dtype: object\n"
     ]
    }
   ],
   "source": [
    "column_names = df.columns\n",
    "print(column_names)\n",
    "\n",
    "time_zone = df[\"Time zoneabbreviation\"]\n",
    "print(time_zone) "
   ]
  },
  {
   "cell_type": "markdown",
   "id": "64537b17",
   "metadata": {},
   "source": [
    "timezone's descriptive stats"
   ]
  },
  {
   "cell_type": "code",
   "execution_count": 7,
   "id": "c50819a7",
   "metadata": {},
   "outputs": [
    {
     "data": {
      "text/plain": [
       "count     597\n",
       "unique     70\n",
       "top       CST\n",
       "freq       44\n",
       "Name: Time zoneabbreviation, dtype: object"
      ]
     },
     "execution_count": 7,
     "metadata": {},
     "output_type": "execute_result"
    }
   ],
   "source": [
    "time_zone.describe()"
   ]
  },
  {
   "cell_type": "code",
   "execution_count": 8,
   "id": "be50d46e",
   "metadata": {},
   "outputs": [
    {
     "data": {
      "text/plain": [
       "<AxesSubplot:>"
      ]
     },
     "execution_count": 8,
     "metadata": {},
     "output_type": "execute_result"
    },
    {
     "data": {
      "image/png": "[encoded data removed]",
      "text/plain": [
       "<Figure size 640x480 with 1 Axes>"
      ]
     },
     "metadata": {},
     "output_type": "display_data"
    }
   ],
   "source": [
    "time_zone.hist(bins=len(time_zone))"
   ]
  },
  {
   "cell_type": "markdown",
   "id": "8e03b8de",
   "metadata": {},
   "source": [
    "From the histogram of time zones, you can see that the most common time zone by far is CST, aka central time zone. Meaning that a lot of time zone countries/names are under this certain time zone, making it by far the largest one."
   ]
  },
  {
   "cell_type": "markdown",
   "id": "864e144e",
   "metadata": {},
   "source": [
    "Bar Graph"
   ]
  },
  {
   "cell_type": "code",
   "execution_count": 35,
   "id": "e7767f10",
   "metadata": {},
   "outputs": [
    {
     "data": {
      "text/plain": [
       "<BarContainer object of 26 artists>"
      ]
     },
     "execution_count": 35,
     "metadata": {},
     "output_type": "execute_result"
    },
    {
     "data": {
      "text/plain": [
       "Text(0.5, 0, 'Type')"
      ]
     },
     "execution_count": 35,
     "metadata": {},
     "output_type": "execute_result"
    },
    {
     "data": {
      "text/plain": [
       "Text(0, 0.5, 'Time Zones')"
      ]
     },
     "execution_count": 35,
     "metadata": {},
     "output_type": "execute_result"
    },
    {
     "data": {
      "text/plain": [
       "Text(0.5, 1.0, 'Type for 20 Random Time Zones from TZ Database')"
      ]
     },
     "execution_count": 35,
     "metadata": {},
     "output_type": "execute_result"
    },
    {
     "data": {
      "image/png": "[encoded data removed]",
      "text/plain": [
       "<Figure size 640x480 with 1 Axes>"
      ]
     },
     "metadata": {},
     "output_type": "display_data"
    }
   ],
   "source": [
    "twenty_random_time_zones = [1,4,19,25,35,101,127,154,182,103,268,283,294,236,204,378,394,319,372,395,263,583,173,374,263,555]\n",
    "\n",
    "time_zone_column = df[\"Time zoneabbreviation\"]\n",
    "type_column = df[\"Type\"]\n",
    "\n",
    "selected_time_zones = []\n",
    "selected_types = []\n",
    "\n",
    "for zone in twenty_random_time_zones:\n",
    "    selected_time_zones.append(time_zone_column[zone])\n",
    "    selected_types.append(type_column[zone])\n",
    "    \n",
    "# Now plot our bar graph\n",
    "plt.bar(selected_time_zones, selected_types, color ='pink')\n",
    "\n",
    "# Now add axis labels with units\n",
    "plt.xlabel(\"Type\")\n",
    "plt.ylabel(\"Time Zones\")\n",
    "\n",
    "# We can add a title too\n",
    "plt.title(\"Type for 20 Random Time Zones from TZ Database\")"
   ]
  },
  {
   "cell_type": "markdown",
   "id": "e3af6a50",
   "metadata": {},
   "source": [
    "From the 20 randomly selected time zones, there are 10 Canonical, 6 Link (standard), 4 Link"
   ]
  }
 ],
 "metadata": {
  "kernelspec": {
   "display_name": "Python 3 (ipykernel)",
   "language": "python",
   "name": "python3"
  },
  "language_info": {
   "codemirror_mode": {
    "name": "ipython",
    "version": 3
   },
   "file_extension": ".py",
   "mimetype": "text/x-python",
   "name": "python",
   "nbconvert_exporter": "python",
   "pygments_lexer": "ipython3",
   "version": "3.9.13"
  }
 },
 "nbformat": 4,
 "nbformat_minor": 5
}
